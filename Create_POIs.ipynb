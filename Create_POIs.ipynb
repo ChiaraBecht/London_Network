{
 "cells": [
  {
   "cell_type": "code",
   "execution_count": 1,
   "metadata": {},
   "outputs": [],
   "source": [
    "from geopy.geocoders import Nominatim\n",
    "import folium"
   ]
  },
  {
   "cell_type": "markdown",
   "metadata": {},
   "source": [
    "# Hotel, Sights, Shopping"
   ]
  },
  {
   "cell_type": "code",
   "execution_count": 2,
   "metadata": {},
   "outputs": [],
   "source": [
    "#places = #['British Museum, London', 'Natural History Museum, London', 'Science Museum, London',\n",
    "        #'Saint Paul´s Cathedral, London', 'Westminster Abbey',\n",
    "        #'Tower Bridge, London', 'Millennium Bridge',\n",
    "        #'Big Ben, London', 'Palace of Westminster', 'Buckingham Palace, London', 'Tower of London, London',\n",
    "        #'Camden Market, London', 'Leadenhall Market, London', 'Royal Exchange, London', 'Covent Garden Market, London', 'Floral Court, London', 'Floral St, London', 'Neal’s Yard, London', 'Fleet St, London',\n",
    "        #'Piccadilly Circus, London', \"Chinatown Gate, London\", 'Trafalgar Square, London',\n",
    "        #'Royal Albert Hall, London', \"Shakespeare's Globe, London\", 'Royal Opera House, London', 'Electric Cinema, London',\n",
    "        #'Harrods, London', 'Oxford St, London', \"Selfridges, London\",\n",
    "        #'Sky Garden, London', 'Horizon 22, London', 'The Garden at 120, London', 'Outernet, London', 'One New Change', \"Crossrail Place Roof Garden, London\",\n",
    "        #\"Kyoto Garden, London\", \"The Hill Garden and Pergola, London\"]"
   ]
  },
  {
   "cell_type": "code",
   "execution_count": 3,
   "metadata": {},
   "outputs": [
    {
     "name": "stdout",
     "output_type": "stream",
     "text": [
      "51.5119614 -0.1820618\n"
     ]
    }
   ],
   "source": [
    "geolocator = Nominatim(user_agent='london_trip_planner')\n",
    "location = geolocator.geocode(\"1 Craven Hill Gardens, London\")\n",
    "\n",
    "print(location.latitude, location.longitude)"
   ]
  },
  {
   "cell_type": "code",
   "execution_count": 4,
   "metadata": {},
   "outputs": [],
   "source": [
    "pois_map_markers = [\n",
    "    {'location_name': '1 Craven Hill Gardens, London', 'lat': 51.5119614, 'lon': -0.1820618, 'category': 'Hotel', 'description': 'Hotel'}\n",
    "]"
   ]
  },
  {
   "cell_type": "code",
   "execution_count": 5,
   "metadata": {},
   "outputs": [],
   "source": [
    "pois_network_base = {\n",
    "    'location_name':['1 Craven Hill Gardens, London'],\n",
    "    'latitude': [51.5119614],\n",
    "    'longitude': [-0.1820618],\n",
    "    'category': ['Hotel'],\n",
    "    'description': ['Hotel']\n",
    "}"
   ]
  },
  {
   "cell_type": "code",
   "execution_count": 6,
   "metadata": {},
   "outputs": [],
   "source": [
    "museums = ['British Museum, London', 'Natural History Museum, London', 'Science Museum, London']\n",
    "\n",
    "for museum in museums:\n",
    "    geolocator = Nominatim(user_agent='london_trip_planner')\n",
    "    location = geolocator.geocode(museum)\n",
    "\n",
    "    new_dict = {'location_name': museum, 'lat': location.latitude, 'lon': location.longitude, 'category': 'Sight', 'description': 'Museum'}\n",
    "    pois_map_markers.append(new_dict)\n",
    "\n",
    "    pois_network_base['location_name'].append(museum)\n",
    "    pois_network_base['latitude'].append(location.latitude)\n",
    "    pois_network_base['longitude'].append(location.longitude)\n",
    "    pois_network_base['category'].append('Sight')\n",
    "    pois_network_base['description'].append('Museum')"
   ]
  },
  {
   "cell_type": "code",
   "execution_count": 7,
   "metadata": {},
   "outputs": [],
   "source": [
    "churches = ['Saint Paul´s Cathedral, London', 'Westminster Abbey']\n",
    "\n",
    "for church in churches:\n",
    "    geolocator = Nominatim(user_agent='london_trip_planner')\n",
    "    location = geolocator.geocode(church)\n",
    "\n",
    "    new_dict = {'location_name': church, 'lat': location.latitude, 'lon': location.longitude, 'category': 'Sight', 'description': 'Church'}\n",
    "    pois_map_markers.append(new_dict)\n",
    "\n",
    "    pois_network_base['location_name'].append(church)\n",
    "    pois_network_base['latitude'].append(location.latitude)\n",
    "    pois_network_base['longitude'].append(location.longitude)\n",
    "    pois_network_base['category'].append('Sight')\n",
    "    pois_network_base['description'].append('Church')"
   ]
  },
  {
   "cell_type": "code",
   "execution_count": 8,
   "metadata": {},
   "outputs": [],
   "source": [
    "bridges = ['Tower Bridge, London', 'Millennium Bridge']\n",
    "\n",
    "for bridge in bridges:\n",
    "    geolocator = Nominatim(user_agent='london_trip_planner')\n",
    "    location = geolocator.geocode(bridge)\n",
    "\n",
    "    new_dict = {'location_name': bridge, 'lat': location.latitude, 'lon': location.longitude, 'category': 'Sight', 'description': 'Bridge'}\n",
    "    pois_map_markers.append(new_dict)\n",
    "\n",
    "    pois_network_base['location_name'].append(bridge)\n",
    "    pois_network_base['latitude'].append(location.latitude)\n",
    "    pois_network_base['longitude'].append(location.longitude)\n",
    "    pois_network_base['category'].append('Sight')\n",
    "    pois_network_base['description'].append('Bridge')"
   ]
  },
  {
   "cell_type": "code",
   "execution_count": 9,
   "metadata": {},
   "outputs": [],
   "source": [
    "buildings = ['Big Ben, London', 'Palace of Westminster', 'Buckingham Palace, London', 'Tower of London, London', 'Piccadilly Circus, London', \"Chinatown Gate, London\", 'Trafalgar Square, London']\n",
    "\n",
    "for building in buildings:\n",
    "    geolocator = Nominatim(user_agent='london_trip_planner')\n",
    "    location = geolocator.geocode(building)\n",
    "\n",
    "    new_dict = {'location_name': building, 'lat': location.latitude, 'lon': location.longitude, 'category': 'Sight', 'description': 'Monument, plotical building'}\n",
    "    pois_map_markers.append(new_dict)\n",
    "\n",
    "    pois_network_base['location_name'].append(building)\n",
    "    pois_network_base['latitude'].append(location.latitude)\n",
    "    pois_network_base['longitude'].append(location.longitude)\n",
    "    pois_network_base['category'].append('Sight')\n",
    "    pois_network_base['description'].append('Monument, political building')"
   ]
  },
  {
   "cell_type": "code",
   "execution_count": 10,
   "metadata": {},
   "outputs": [],
   "source": [
    "markets_streets = ['Camden Market, London', 'Leadenhall Market, London', 'Royal Exchange, London', 'Covent Garden Market, London', 'Floral Court, London', 'Floral St, London', 'Neal’s Yard, London', 'Fleet St, London']\n",
    "\n",
    "for market in markets_streets:\n",
    "    geolocator = Nominatim(user_agent='london_trip_planner')\n",
    "    location = geolocator.geocode(market)\n",
    "\n",
    "    new_dict = {'location_name': market, 'lat': location.latitude, 'lon': location.longitude, 'category': 'Sight', 'description': 'Market or Street'}\n",
    "    pois_map_markers.append(new_dict)\n",
    "\n",
    "    pois_network_base['location_name'].append(market)\n",
    "    pois_network_base['latitude'].append(location.latitude)\n",
    "    pois_network_base['longitude'].append(location.longitude)\n",
    "    pois_network_base['category'].append('Sight')\n",
    "    pois_network_base['description'].append('Market or Street')"
   ]
  },
  {
   "cell_type": "code",
   "execution_count": 11,
   "metadata": {},
   "outputs": [],
   "source": [
    "theater_cinemas = ['Royal Albert Hall, London', \"Shakespeare's Globe, London\", 'Royal Opera House, London', 'Electric Cinema, London', 'Vaudeville Theatre, London']\n",
    "\n",
    "for theater in theater_cinemas:\n",
    "    geolocator = Nominatim(user_agent='london_trip_planner')\n",
    "    location = geolocator.geocode(theater)\n",
    "\n",
    "    new_dict = {'location_name': theater, 'lat': location.latitude, 'lon': location.longitude, 'category': 'Sight', 'description': 'Theater or Cinema'}\n",
    "    pois_map_markers.append(new_dict)\n",
    "\n",
    "    pois_network_base['location_name'].append(theater)\n",
    "    pois_network_base['latitude'].append(location.latitude)\n",
    "    pois_network_base['longitude'].append(location.longitude)\n",
    "    pois_network_base['category'].append('Sight')\n",
    "    pois_network_base['description'].append('Theater or Cinema')"
   ]
  },
  {
   "cell_type": "code",
   "execution_count": 12,
   "metadata": {},
   "outputs": [],
   "source": [
    "shopping = ['Harrods, London', 'Oxford St, London', \"Selfridges, London\"]\n",
    "\n",
    "for shop in shopping:\n",
    "    geolocator = Nominatim(user_agent='london_trip_planner')\n",
    "    location = geolocator.geocode(shop)\n",
    "\n",
    "    new_dict = {'location_name': shop, 'lat': location.latitude, 'lon': location.longitude, 'category': 'Shopping', 'description': 'Shopping'}\n",
    "    pois_map_markers.append(new_dict)\n",
    "\n",
    "    pois_network_base['location_name'].append(shop)\n",
    "    pois_network_base['latitude'].append(location.latitude)\n",
    "    pois_network_base['longitude'].append(location.longitude)\n",
    "    pois_network_base['category'].append('Shopping')\n",
    "    pois_network_base['description'].append('Shopping')\n",
    "\n",
    "# add manually book shops\n",
    "# Waterstones\n",
    "waterstones_piccadilly = '51.509265, -0.136069'\n",
    "new_dict = {'location_name': 'Waterstones Piccadilly', 'lat':51.509265, 'lon': -0.136069, 'category': 'Shopping', 'description': 'Shopping'}\n",
    "pois_map_markers.append(new_dict)\n",
    "pois_network_base['location_name'].append('Waterstones Piccadilly')\n",
    "pois_network_base['latitude'].append(51.509265)\n",
    "pois_network_base['longitude'].append(-0.136069)\n",
    "pois_network_base['category'].append('Shopping')\n",
    "pois_network_base['description'].append('Shopping')\n",
    "\n",
    "# daunt_books\n",
    "new_dict = {'location_name': 'Daunt Books 1', 'lat': 51.516644, 'lon': -0.088951, 'category': 'Shopping', 'description': 'Shopping'}\n",
    "pois_map_markers.append(new_dict)\n",
    "pois_network_base['location_name'].append('Daunt Books 1')\n",
    "pois_network_base['latitude'].append(51.516644)\n",
    "pois_network_base['longitude'].append(-0.088951)\n",
    "pois_network_base['category'].append('Shopping')\n",
    "pois_network_base['description'].append('Shopping')\n",
    "\n",
    "new_dict = {'location_name': 'Daunt Books 2', 'lat': 51.520881, 'lon': -0.152178, 'category': 'Shopping', 'description': 'Shopping'}\n",
    "pois_map_markers.append(new_dict)\n",
    "pois_network_base['location_name'].append('Daunt Books 2')\n",
    "pois_network_base['latitude'].append(51.520881)\n",
    "pois_network_base['longitude'].append(-0.152178)\n",
    "pois_network_base['category'].append('Shopping')\n",
    "pois_network_base['description'].append('Shopping')"
   ]
  },
  {
   "cell_type": "code",
   "execution_count": 13,
   "metadata": {},
   "outputs": [],
   "source": [
    "roof_tops = ['Sky Garden, London', 'Horizon 22, London', 'The Garden at 120, London', 'Outernet, London', 'One New Change', \"Crossrail Place Roof Garden, London\"]\n",
    "\n",
    "for roof_top in roof_tops:\n",
    "    geolocator = Nominatim(user_agent='london_trip_planner')\n",
    "    location = geolocator.geocode(roof_top)\n",
    "\n",
    "    new_dict = {'location_name': roof_top, 'lat': location.latitude, 'lon': location.longitude, 'category': 'Sight', 'description': 'Roof Top'}\n",
    "    pois_map_markers.append(new_dict)\n",
    "\n",
    "    pois_network_base['location_name'].append(roof_top)\n",
    "    pois_network_base['latitude'].append(location.latitude)\n",
    "    pois_network_base['longitude'].append(location.longitude)\n",
    "    pois_network_base['category'].append('Sight')\n",
    "    pois_network_base['description'].append('Roof Top')"
   ]
  },
  {
   "cell_type": "code",
   "execution_count": 14,
   "metadata": {},
   "outputs": [
    {
     "data": {
      "text/plain": [
       "('Holly Village', 'St Dunstan-in-the-East')"
      ]
     },
     "execution_count": 14,
     "metadata": {},
     "output_type": "execute_result"
    }
   ],
   "source": [
    "gardens = [\"Kyoto Garden, London\", \"The Hill Garden and Pergola, London\"]\n",
    "\n",
    "for garden in gardens:\n",
    "    geolocator = Nominatim(user_agent='london_trip_planner')\n",
    "    location = geolocator.geocode(garden)\n",
    "\n",
    "    new_dict = {'location_name': garden, 'lat': location.latitude, 'lon': location.longitude, 'category': 'Sight', 'description': 'Garden'}\n",
    "    pois_map_markers.append(new_dict)\n",
    "\n",
    "    pois_network_base['location_name'].append(garden)\n",
    "    pois_network_base['latitude'].append(location.latitude)\n",
    "    pois_network_base['longitude'].append(location.longitude)\n",
    "    pois_network_base['category'].append('Sight')\n",
    "    pois_network_base['description'].append('Garden')\n",
    "\n",
    "# some hidden stuff\n",
    "'Holly Village', 'St Dunstan-in-the-East'"
   ]
  },
  {
   "cell_type": "code",
   "execution_count": 15,
   "metadata": {},
   "outputs": [],
   "source": [
    "hyde_park = ['Italian Gardens, London', \"Speakers’ Corner, London\", \"The Old Police House, London\", \"Wellington Arch, London\"]\n",
    "for place in hyde_park:\n",
    "    geolocator = Nominatim(user_agent='london_trip_planner')\n",
    "    location = geolocator.geocode(place)\n",
    "\n",
    "    new_dict = {'location_name': place, 'lat': location.latitude, 'lon': location.longitude, 'category': 'Sight', 'description': 'Hyde Park'}\n",
    "    pois_map_markers.append(new_dict)\n",
    "\n",
    "    pois_network_base['location_name'].append(place)\n",
    "    pois_network_base['latitude'].append(location.latitude)\n",
    "    pois_network_base['longitude'].append(location.longitude)\n",
    "    pois_network_base['category'].append('Sight')\n",
    "    pois_network_base['description'].append('Hyde Park')"
   ]
  },
  {
   "cell_type": "code",
   "execution_count": null,
   "metadata": {},
   "outputs": [],
   "source": [
    "harry_potter_locations = [\"Platform 9 3/4, London\", 'Leadenhall Market, London', \"Australian High Commission, London\", \"House of MinaLima, London\", 'Warner Bros. Studio Tour London']\n",
    "for place in harry_potter_locations:\n",
    "    geolocator = Nominatim(user_agent='london_trip_planner')\n",
    "    location = geolocator.geocode(place)\n",
    "\n",
    "    new_dict = {'location_name': place, 'lat': location.latitude, 'lon': location.longitude, 'category': 'Sight', 'description': 'Harry Potter Location'}\n",
    "    pois_map_markers.append(new_dict)\n",
    "\n",
    "    pois_network_base['location_name'].append(place)\n",
    "    pois_network_base['latitude'].append(location.latitude)\n",
    "    pois_network_base['longitude'].append(location.longitude)\n",
    "    pois_network_base['category'].append('Sight')\n",
    "    pois_network_base['description'].append('Harry Potter Location')"
   ]
  },
  {
   "cell_type": "code",
   "execution_count": null,
   "metadata": {},
   "outputs": [],
   "source": [
    "rubinrot_locations = [\"81 Bourdon Pl, London\", \"Inner Temple Gardens, London\", \"Fountain Court, London\", 'Temple Church, London', \"King’s College London, London\", \"Two Temple Place, London\", \"Royal Courts of Justice, London\"]\n",
    "for place in rubinrot_locations:\n",
    "    geolocator = Nominatim(user_agent='london_trip_planner')\n",
    "    location = geolocator.geocode(place)\n",
    "\n",
    "    new_dict = {'location_name': place, 'lat': location.latitude, 'lon': location.longitude, 'category': 'Sight', 'description': 'Rubinrot Location'}\n",
    "    pois_map_markers.append(new_dict)\n",
    "\n",
    "    pois_network_base['location_name'].append(place)\n",
    "    pois_network_base['latitude'].append(location.latitude)\n",
    "    pois_network_base['longitude'].append(location.longitude)\n",
    "    pois_network_base['category'].append('Sight')\n",
    "    pois_network_base['description'].append('Rubinrot Location')\n",
    "\n",
    "society_of_middle_temple = [51.512088, -0.110300]\n",
    "new_dict = {'location_name': 'Society of middle Temple', 'lat': 51.512088, 'lon': -0.110300, 'category': 'Sight', 'description': 'Rubinrot Location'}\n",
    "pois_map_markers.append(new_dict)\n",
    "pois_network_base['location_name'].append('society of middle Temple')\n",
    "pois_network_base['latitude'].append(51.512088)\n",
    "pois_network_base['longitude'].append(-0.110300)\n",
    "pois_network_base['category'].append('Sight')\n",
    "pois_network_base['description'].append('Rubinrot Location')\n",
    "\n",
    "trinity_church_belgravia = [51.493199, -0.156791]\n",
    "new_dict = {'location_name': 'Trinity Church Belgravia', 'lat': 51.493199, 'lon': -0.156791, 'category':'Sight', 'description': 'Rubinrot Location'}\n",
    "pois_map_markers.append(new_dict)\n",
    "pois_network_base['location_name'].append('Trinity Church Belgravia')\n",
    "pois_network_base['latitude'].append(51.493199)\n",
    "pois_network_base['longitude'].append(-0.156791)\n",
    "pois_network_base['category'].append('Sight')\n",
    "pois_network_base['description'].append('Rubinrot Location')\n",
    "\n",
    "inner_temple_library = [51.51299, -0.10985]\n",
    "new_dict = {'location_name': 'Inner Temple Library', 'lat': 51.51299, 'lon': -0.10985, 'category': 'Sight', 'description': 'Rubinrot Location'}\n",
    "pois_map_markers.append(new_dict)\n",
    "pois_network_base['location_name'].append('Inner Temple Library')\n",
    "pois_network_base['latitude'].append(51.51299)\n",
    "pois_network_base['longitude'].append(-0.10985)\n",
    "pois_network_base['category'].append('Sight')\n",
    "pois_network_base['description'].append('Rubinrot Location')"
   ]
  },
  {
   "cell_type": "code",
   "execution_count": null,
   "metadata": {},
   "outputs": [],
   "source": [
    "# Add Manually invisible library\n",
    "geolocator = Nominatim(user_agent='london_trip_planner')\n",
    "location = geolocator.geocode('British Library, London')\n",
    "\n",
    "new_dict = {'location_name': 'British Library', 'lat': location.latitude, 'lon': location.longitude, 'category': 'Sight', 'description': 'Invisible Library Location'}\n",
    "pois_map_markers.append(new_dict)\n",
    "pois_network_base['location_name'].append('British Library, London')\n",
    "pois_network_base['latitude'].append(location.latitude)\n",
    "pois_network_base['longitude'].append(location.longitude)\n",
    "pois_network_base['category'].append('Sight')\n",
    "pois_network_base['description'].append('Invisible Library Location')"
   ]
  },
  {
   "cell_type": "code",
   "execution_count": null,
   "metadata": {},
   "outputs": [],
   "source": [
    "import json\n",
    "\n",
    "with open('../London_Network/data/pois_map_markers.json', 'w') as f:\n",
    "    json.dump(pois_map_markers, f, indent=2)"
   ]
  },
  {
   "cell_type": "code",
   "execution_count": null,
   "metadata": {},
   "outputs": [],
   "source": [
    "## leftovers\n",
    "areas = ['Little Venice, London']\n",
    "'Kensington Palace'\n",
    "'Royal Courts of Justice'\n",
    "'London Wall'\n",
    "\"Borough Market, London\""
   ]
  },
  {
   "cell_type": "markdown",
   "metadata": {},
   "source": [
    "# Mapping of the Sights first attempt"
   ]
  },
  {
   "cell_type": "code",
   "execution_count": null,
   "metadata": {},
   "outputs": [],
   "source": [
    "london_map = folium.Map(location=[51.501016, -0.123107],\n",
    "    tiles='OpenStreetMap')\n",
    "\n",
    "for marker in pois_map_markers:\n",
    "    folium.CircleMarker(\n",
    "        location=[marker[\"lat\"], marker[\"lon\"]],\n",
    "        radius=5,\n",
    "        color='darkred',\n",
    "        fill=True,\n",
    "        fill_color='red',\n",
    "        fill_opacity=0.8,\n",
    "        tooltip=marker[\"location_name\"]\n",
    "    ).add_to(london_map)\n",
    "london_map"
   ]
  },
  {
   "cell_type": "markdown",
   "metadata": {},
   "source": [
    "# Food"
   ]
  },
  {
   "cell_type": "code",
   "execution_count": null,
   "metadata": {},
   "outputs": [],
   "source": [
    "geolocator = Nominatim(user_agent='london_trip_planner')\n",
    "location = geolocator.geocode('food hall vauxhall')\n",
    "location.latitude, location.longitude"
   ]
  },
  {
   "cell_type": "markdown",
   "metadata": {},
   "source": [
    "Pastino: 92 Tottenham Ct Rd\n",
    "Bancone Kensington\n",
    "Mamma Mia! The Party (greek food and abba party)\n",
    "Guido's: multiple locations\n",
    "Tavolino Bar & Kitchen\n",
    "libanese food: Comptoir Libanais Chelsea"
   ]
  },
  {
   "cell_type": "markdown",
   "metadata": {},
   "source": [
    "# Coffe places\n",
    "covent garden coffe place / bar: https://linktr.ee/thelaneldn?\n",
    "Attendant Coffee Roasters - Fitzrovia (ehemals toilette )"
   ]
  },
  {
   "cell_type": "markdown",
   "metadata": {},
   "source": [
    "# Bars and Clubs"
   ]
  },
  {
   "cell_type": "code",
   "execution_count": null,
   "metadata": {},
   "outputs": [],
   "source": [
    "\"Belle Livingstone's 58th Street Country Club\""
   ]
  },
  {
   "cell_type": "markdown",
   "metadata": {},
   "source": [
    "# Try Map with first Markers"
   ]
  },
  {
   "cell_type": "code",
   "execution_count": null,
   "metadata": {},
   "outputs": [],
   "source": [
    "import geopandas as gpd\n",
    "import osmnx as ox"
   ]
  },
  {
   "cell_type": "code",
   "execution_count": null,
   "metadata": {},
   "outputs": [],
   "source": [
    "def add_neighborhood_polygon(map_object, neighborhood_name, \n",
    "                              color=\"blue\", fill_color=\"lightblue\"):\n",
    "    \"\"\"\n",
    "    Adds a polygon of a London neighborhood to a folium map.\n",
    "    \n",
    "    Parameters:\n",
    "    - map_object: a folium.Map instance\n",
    "    - neighborhood_name: str, e.g. \"Soho\", \"Mayfair\", \"Notting Hill\"\n",
    "    - color: border color\n",
    "    - fill_color: fill color\n",
    "    \"\"\"\n",
    "    # Geocode the neighborhood to get a polygon\n",
    "    location_query = f\"{neighborhood_name}, London, UK\"\n",
    "    try:\n",
    "        gdf = ox.geocode_to_gdf(location_query)\n",
    "    except Exception as e:\n",
    "        print(f\"Could not fetch '{neighborhood_name}': {e}\")\n",
    "        return\n",
    "\n",
    "    # Add the polygon to the map\n",
    "    folium.GeoJson(\n",
    "        gdf,\n",
    "        name=neighborhood_name,\n",
    "        style_function=lambda feature: {\n",
    "            'fillColor': fill_color,\n",
    "            'color': color,\n",
    "            'weight': 2,\n",
    "            'fillOpacity': 0.3,\n",
    "        },\n",
    "        tooltip=folium.GeoJsonTooltip(fields=[\"display_name\"])\n",
    "    ).add_to(map_object)\n",
    "\n",
    "    print(f\"Added: {neighborhood_name}\")"
   ]
  },
  {
   "cell_type": "code",
   "execution_count": null,
   "metadata": {},
   "outputs": [],
   "source": [
    "m = folium.Map(location=[51.509, -0.133], zoom_start=13)\n",
    "\n",
    "# Add neighborhoods\n",
    "add_neighborhood_polygon(m, \"Hyde Park\", color='grey', fill_color='lightgrey')\n",
    "add_neighborhood_polygon(m, \"Soho\", color=\"red\", fill_color=\"pink\")\n",
    "add_neighborhood_polygon(m, \"Mayfair\", color=\"green\", fill_color=\"lightgreen\")\n",
    "add_neighborhood_polygon(m, \"Notting Hill\", color=\"purple\", fill_color=\"lavender\")\n",
    "\n",
    "# Add layer control and display\n",
    "folium.LayerControl().add_to(m)\n",
    "m"
   ]
  },
  {
   "cell_type": "code",
   "execution_count": null,
   "metadata": {},
   "outputs": [],
   "source": [
    "boroughs = gpd.read_file(\"London_Borough_Excluding_MHW.shp\")\n",
    "if boroughs.crs != \"EPSG:4326\":\n",
    "    boroughs = boroughs.to_crs(\"EPSG:4326\")"
   ]
  },
  {
   "cell_type": "code",
   "execution_count": null,
   "metadata": {},
   "outputs": [],
   "source": [
    "wards = gpd.read_file(\"London_Ward_CityMerged.shp\")\n",
    "if wards.crs != \"EPSG:4326\":\n",
    "    wards = wards.to_crs(\"EPSG:4326\")"
   ]
  },
  {
   "cell_type": "code",
   "execution_count": null,
   "metadata": {},
   "outputs": [],
   "source": [
    "m = folium.Map(location=[51.5074, -0.1278], zoom_start=10)\n",
    "\n",
    "folium.GeoJson(\n",
    "    lsoa,\n",
    "    name=\"London LSOA\",\n",
    "    style_function=lambda feature: {\n",
    "        'fillColor': 'lightblue',\n",
    "        'color': 'black',\n",
    "        'weight': 1,\n",
    "        'fillOpacity': 0.2,\n",
    "    },\n",
    "    tooltip=folium.GeoJsonTooltip(fields=[\"LSOA11NM\"])  # or \"NAME\" depending on your file\n",
    ").add_to(m)\n",
    "\n",
    "m"
   ]
  },
  {
   "cell_type": "code",
   "execution_count": null,
   "metadata": {},
   "outputs": [],
   "source": [
    "m = folium.Map(location=[51.5074, -0.1278], zoom_start=10)\n",
    "\n",
    "folium.GeoJson(\n",
    "    boroughs,\n",
    "    name=\"London Boroughs\",\n",
    "    style_function=lambda feature: {\n",
    "        'fillColor': 'lightblue',\n",
    "        'color': 'black',\n",
    "        'weight': 1,\n",
    "        'fillOpacity': 0.2,\n",
    "    },\n",
    "    tooltip=folium.GeoJsonTooltip(fields=[\"NAME\"])  # or \"NAME\" depending on your file\n",
    ").add_to(m)\n",
    "\n",
    "m"
   ]
  },
  {
   "cell_type": "code",
   "execution_count": null,
   "metadata": {},
   "outputs": [],
   "source": [
    "neighorhoods = gpd.read_file('london.geojson')\n",
    "neighorhoods"
   ]
  },
  {
   "cell_type": "code",
   "execution_count": null,
   "metadata": {},
   "outputs": [],
   "source": [
    "rubinrot_markers = []\n",
    "rubinrot_locations = [\"81 Bourdon Pl, London\", \"Inner Temple Gardens, London\", 'Temple Church, London', \"King’s College London, London\", \"Two Temple Place, London\", \"Royal Courts of Justice, London\"] #\"Fountain Court, London\",\n",
    "for place in rubinrot_locations:\n",
    "    geolocator = Nominatim(user_agent='london_trip_planner')\n",
    "    location = geolocator.geocode(place)\n",
    "    rubinrot_markers.append({'name': place, 'lat': location.latitude, 'lon': location.longitude})"
   ]
  },
  {
   "cell_type": "code",
   "execution_count": null,
   "metadata": {},
   "outputs": [],
   "source": [
    "london_map = folium.Map(location=[51.501016, -0.123107],\n",
    "    tiles='OpenStreetMap')\n",
    "\n",
    "for marker in rubinrot_markers:\n",
    "    folium.CircleMarker(\n",
    "        location=[marker[\"lat\"], marker[\"lon\"]],\n",
    "        radius=5,\n",
    "        color='darkred',\n",
    "        fill=True,\n",
    "        fill_color='red',\n",
    "        fill_opacity=0.8,\n",
    "        tooltip=marker[\"name\"]\n",
    "    ).add_to(london_map)\n",
    "london_map"
   ]
  }
 ],
 "metadata": {
  "kernelspec": {
   "display_name": "Python (london_maps_networks_env)",
   "language": "python",
   "name": "london_maps_networks_env"
  },
  "language_info": {
   "codemirror_mode": {
    "name": "ipython",
    "version": 3
   },
   "file_extension": ".py",
   "mimetype": "text/x-python",
   "name": "python",
   "nbconvert_exporter": "python",
   "pygments_lexer": "ipython3",
   "version": "3.13.2"
  },
  "vscode": {
   "interpreter": {
    "hash": "ba61731fd5bacd529bfe2621cd7fe5397f3fddc74e54c7c96abfd8030b8a1fc2"
   }
  }
 },
 "nbformat": 4,
 "nbformat_minor": 2
}
